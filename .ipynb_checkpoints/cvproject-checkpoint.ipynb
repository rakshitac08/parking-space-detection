{
 "cells": [
  {
   "cell_type": "code",
   "execution_count": null,
   "id": "d5dfbbcd-9fd9-4394-83c0-52ba06900037",
   "metadata": {},
   "outputs": [],
   "source": []
  },
  {
   "cell_type": "code",
   "execution_count": null,
   "id": "a9ce40f0-664c-4b37-adf3-6c422973e747",
   "metadata": {},
   "outputs": [],
   "source": []
  },
  {
   "cell_type": "code",
   "execution_count": 1,
   "id": "9d84a66e-f78f-48ea-8c90-eea83a5342f9",
   "metadata": {},
   "outputs": [],
   "source": [
    "#### performance metrics computation"
   ]
  },
  {
   "cell_type": "code",
   "execution_count": null,
   "id": "3641cd53-0b1a-487c-a5eb-f9b68429e685",
   "metadata": {},
   "outputs": [],
   "source": [
    "import pandas as pd\n",
    "from ultralytics import YOLO\n",
    "import cv2\n",
    "model = YOLO('runs/detect/train/weights/best.pt')"
   ]
  },
  {
   "cell_type": "code",
   "execution_count": null,
   "id": "f5ae29f7-bc41-4dd0-bb98-fad207490a5d",
   "metadata": {},
   "outputs": [],
   "source": [
    "# Load video\n",
    "video_path = \"parking1.mp4\"\n",
    "cap = cv2.VideoCapture(video_path)\n",
    "\n",
    "# Get original video details\n",
    "width = int(cap.get(cv2.CAP_PROP_FRAME_WIDTH))\n",
    "height = int(cap.get(cv2.CAP_PROP_FRAME_HEIGHT))\n",
    "fps = cap.get(cv2.CAP_PROP_FPS)\n",
    "\n",
    "# Define output video writer\n",
    "fourcc = cv2.VideoWriter_fourcc(*'mp4v')\n",
    "out = cv2.VideoWriter(\"output/predicted_video2.mp4\", fourcc, fps, (width, height))\n",
    "\n",
    "\n",
    "frame_count = 0\n",
    "predictions = []  # <-- Initialize a list to collect prediction data\n",
    "\n",
    "# Inference loop\n",
    "while True:\n",
    "    ret, frame = cap.read()\n",
    "    if not ret:\n",
    "        break\n",
    "\n",
    "    results = model(frame, verbose=False)\n",
    "    annotated_frame = results[0].plot()\n",
    "    out.write(annotated_frame)\n",
    "\n",
    "    # 🔽 Save predictions for this frame\n",
    "    for box in results[0].boxes.data:\n",
    "        x1, y1, x2, y2, conf, cls = box.tolist()\n",
    "        predictions.append({\n",
    "            'frame': frame_count,\n",
    "            'class': int(cls),\n",
    "            'confidence': conf,\n",
    "            'x1': x1,\n",
    "            'y1': y1,\n",
    "            'x2': x2,\n",
    "            'y2': y2\n",
    "        })\n",
    "\n",
    "    frame_count += 1\n",
    "\n",
    "cap.release()\n",
    "out.release()\n",
    "print(f\"✅ Detection complete. {frame_count} frames written to output/predicted_video2.mp4\")\n",
    "\n",
    "# ✅ Save all predictions to a CSV file\n",
    "df_predictions = pd.DataFrame(predictions)\n",
    "df_predictions.to_csv('output/video_predictions.csv', index=False)\n",
    "print(\"📁 Predictions saved to: output/video_predictions.csv\")\n"
   ]
  },
  {
   "cell_type": "code",
   "execution_count": null,
   "id": "dadd51f2-41a0-4f28-b04a-6acd23caf44a",
   "metadata": {},
   "outputs": [],
   "source": [
    "## Prepare Ground Truth Annotations for Video"
   ]
  },
  {
   "cell_type": "code",
   "execution_count": null,
   "id": "9f5feff3-ee35-4f60-a12a-74e15ff0f1ac",
   "metadata": {},
   "outputs": [],
   "source": [
    "## Extract Sample Frames from the Video"
   ]
  },
  {
   "cell_type": "code",
   "execution_count": null,
   "id": "2c43a7ca-93b8-45cb-ac4b-47fb81a309ce",
   "metadata": {},
   "outputs": [],
   "source": [
    "import cv2\n",
    "import os\n",
    "\n",
    "# Create folder to save sample frames\n",
    "sample_dir = \"sample_frames\"\n",
    "os.makedirs(sample_dir, exist_ok=True)\n",
    "\n",
    "video_path = \"parking1.mp4\"\n",
    "cap = cv2.VideoCapture(video_path)\n",
    "\n",
    "frame_count = int(cap.get(cv2.CAP_PROP_FRAME_COUNT))\n",
    "interval = frame_count // 10  # Extract 10 frames evenly\n",
    "\n",
    "frame_idx = 0\n",
    "saved_count = 0\n",
    "\n",
    "while cap.isOpened():\n",
    "    ret, frame = cap.read()\n",
    "    if not ret:\n",
    "        break\n",
    "\n",
    "    if frame_idx % interval == 0:\n",
    "        frame_filename = os.path.join(sample_dir, f\"frame_{frame_idx}.jpg\")\n",
    "        cv2.imwrite(frame_filename, frame)\n",
    "        print(f\"Saved: {frame_filename}\")\n",
    "        saved_count += 1\n",
    "\n",
    "    frame_idx += 1\n",
    "    if saved_count >= 10:\n",
    "        break\n",
    "\n",
    "cap.release()\n",
    "print(\"✅ Sample frames extracted.\")\n"
   ]
  },
  {
   "cell_type": "code",
   "execution_count": null,
   "id": "b4fc40be-8dec-418e-9a5b-dd9b89847e2b",
   "metadata": {},
   "outputs": [],
   "source": []
  },
  {
   "cell_type": "code",
   "execution_count": null,
   "id": "298e89da-85d0-4986-a3b9-cf2d76e80a3f",
   "metadata": {},
   "outputs": [],
   "source": []
  },
  {
   "cell_type": "code",
   "execution_count": null,
   "id": "3a92f03f-5e3d-4d04-8fe6-33a005247c74",
   "metadata": {},
   "outputs": [],
   "source": []
  },
  {
   "cell_type": "code",
   "execution_count": null,
   "id": "4e1964f3-a975-4796-bd23-d2cba8c9bfee",
   "metadata": {},
   "outputs": [],
   "source": []
  },
  {
   "cell_type": "code",
   "execution_count": null,
   "id": "9a2549cd-c391-4ea0-86a9-c36ec7ba0e51",
   "metadata": {},
   "outputs": [],
   "source": []
  },
  {
   "cell_type": "code",
   "execution_count": null,
   "id": "17eabb7e-acd6-4284-9b6e-e8984b13541c",
   "metadata": {},
   "outputs": [],
   "source": []
  },
  {
   "cell_type": "code",
   "execution_count": null,
   "id": "08011956-3307-4dc0-908e-4e9f09534cb3",
   "metadata": {},
   "outputs": [],
   "source": []
  },
  {
   "cell_type": "code",
   "execution_count": null,
   "id": "6b4f893d-e682-4971-a972-93e165b6b70d",
   "metadata": {},
   "outputs": [],
   "source": []
  }
 ],
 "metadata": {
  "kernelspec": {
   "display_name": "Python [conda env:base] *",
   "language": "python",
   "name": "conda-base-py"
  },
  "language_info": {
   "codemirror_mode": {
    "name": "ipython",
    "version": 3
   },
   "file_extension": ".py",
   "mimetype": "text/x-python",
   "name": "python",
   "nbconvert_exporter": "python",
   "pygments_lexer": "ipython3",
   "version": "3.12.7"
  }
 },
 "nbformat": 4,
 "nbformat_minor": 5
}
